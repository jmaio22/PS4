{
 "cells": [
  {
   "cell_type": "code",
   "execution_count": 1,
   "metadata": {
    "id": "UJ-nyP2J6A7z"
   },
   "outputs": [],
   "source": [
    "#imports & init\n",
    "#!pip install -U sentence-transformers\n",
    "import re\n",
    "import pandas as pd\n",
    "import requests\n",
    "import httplib2\n",
    "import csv\n",
    "import string\n",
    "import IPython\n",
    "import numpy as np\n",
    "import webbrowser\n",
    "import io\n",
    "import urllib.request\n",
    "from bs4 import BeautifulSoup\n",
    "from bs4 import SoupStrainer\n",
    "from bs4.element import Tag\n",
    "from collections import Counter\n",
    "from sentence_transformers import SentenceTransformer\n",
    "from sklearn.metrics.pairwise import cosine_similarity\n",
    "from PIL import ImageTk, Image\n",
    "from io import BytesIO\n",
    "from urllib.request import urlopen\n",
    "model = SentenceTransformer('sentence-transformers/paraphrase-xlm-r-multilingual-v1')"
   ]
  },
  {
   "cell_type": "code",
   "execution_count": 2,
   "metadata": {},
   "outputs": [],
   "source": [
    "#tkinter init\n",
    "%gui tk\n",
    "import tkinter as tk\n",
    "from tkinter import *\n",
    "from tkinter import messagebox\n",
    "from tkinter import ttk"
   ]
  },
  {
   "cell_type": "code",
   "execution_count": 3,
   "metadata": {
    "id": "d2DuV-sD6Qhv"
   },
   "outputs": [],
   "source": [
    "#database\n",
    "#gives me a list of recipes with ingredients from online csv\n",
    "matching_recipes = []\n",
    "url = 'https://raw.githubusercontent.com/jmaio22/PS4/main/food3.csv?token=AOFHMS2UUPD55NB4WASWK73BTCKMK'\n",
    "df = pd.read_csv(url,engine='python', sep=',',quotechar='\"')\n",
    "df = df[['food']]\n",
    "df['food'] = df['food'].str.lower()\n",
    "igens = df['food'].values.tolist()\n",
    "#create sublist of each recipe in a single list\n",
    "indices = []\n",
    "for i, elem in enumerate(igens):\n",
    "    if 'https:' in elem:\n",
    "        indices.append(i)\n",
    "#getting indexes of each link to delimit the data\n",
    "x = -1\n",
    "x1 = 0\n",
    "recipedata = []\n",
    "for items in indices:\n",
    "  recipedata.append(list(igens[x+1:items+1]))\n",
    "  x = items\n",
    "#len(recipedata)\n",
    "#recipedata[762]"
   ]
  },
  {
   "cell_type": "code",
   "execution_count": 4,
   "metadata": {},
   "outputs": [
    {
     "data": {
      "text/plain": [
       "['all-purpose flour',\n",
       " 'puff pastry',\n",
       " 'cream cheese',\n",
       " 'raisins',\n",
       " 'cinnamon',\n",
       " 'sugar',\n",
       " 'https://www.seriouseats.com/cinnamon-raisin-puff-pastry-waffle-recipe']"
      ]
     },
     "execution_count": 4,
     "metadata": {},
     "output_type": "execute_result"
    }
   ],
   "source": [
    "recipedata[762]"
   ]
  },
  {
   "cell_type": "code",
   "execution_count": 5,
   "metadata": {
    "colab": {
     "base_uri": "https://localhost:8080/",
     "height": 35
    },
    "id": "Hx2xFBUK_78y",
    "outputId": "b30c7502-b0e3-4b05-e2f2-7e91cdf58084"
   },
   "outputs": [],
   "source": [
    "#scraping title of recipe\n",
    "def get_title(links):\n",
    "    page = requests.get(links)\n",
    "    soup = BeautifulSoup(page.content, \"html.parser\")\n",
    "    results = (str(soup.find(id=\"heading_1-0\"))).split('\\n')\n",
    "    title = re.sub(\"[\\(\\<].*?[\\)\\>]\", \"\", results[1])\n",
    "    return title"
   ]
  },
  {
   "cell_type": "code",
   "execution_count": 6,
   "metadata": {
    "colab": {
     "base_uri": "https://localhost:8080/",
     "height": 205
    },
    "id": "6OHHozrFAFlI",
    "outputId": "c03ed477-9e79-4e92-829f-6dbd330c335f"
   },
   "outputs": [],
   "source": [
    "#scraping image of recipe\n",
    "def get_image(links):\n",
    "    page = requests.get(links)\n",
    "    soup = BeautifulSoup(page.content, \"html.parser\")\n",
    "    results = (str(soup.find(id=\"figure_2-0\"))).split('\\n')\n",
    "    recipe_image = results[1].split('\"')\n",
    "    for items in recipe_image:\n",
    "        if items[0:3] == \"htt\":\n",
    "            recipe_image = items\n",
    "            break\n",
    "    return recipe_image"
   ]
  },
  {
   "cell_type": "code",
   "execution_count": 7,
   "metadata": {},
   "outputs": [],
   "source": [
    "# get_title('https://www.seriouseats.com/homemade-egg-mcmuffin-mcdonalds-recipe')\n",
    "# get_image('https://www.seriouseats.com/pasta-al-limone')"
   ]
  },
  {
   "cell_type": "code",
   "execution_count": 8,
   "metadata": {},
   "outputs": [],
   "source": [
    "def open_recipe(event):\n",
    "    for index,selected_item in enumerate(tree2.selection()):\n",
    "        global ewe\n",
    "        global hyplinks\n",
    "        curItem = tree2.focus()\n",
    "        ewe = tree2.item(curItem,'text')\n",
    "        ewe = (str(ewe))\n",
    "        print(ewe)\n",
    "        webbrowser.open(hyplinks.get(ewe))\n",
    "#         print(test)\n",
    "#         x = test[index]\n",
    "#         webbrowser.open(x)"
   ]
  },
  {
   "cell_type": "code",
   "execution_count": 9,
   "metadata": {
    "id": "r6pDO1tIDUBg"
   },
   "outputs": [],
   "source": [
    "from PIL import ImageTk, Image\n",
    "#searching database for matching recipes from ing_input, returning matching recipes list\n",
    "test = []\n",
    "def recipe_search():\n",
    "    global hyplinks\n",
    "    hyplinks = {}\n",
    "    for i in tree2.get_children()[::len(tree2.get_children())-1]:\n",
    "        tree2.delete(i)\n",
    "    matching_recipes = []\n",
    "    ewe = 0\n",
    "    for recipes in recipedata:\n",
    "      match_count = 0 \n",
    "      recipe_embeddings = model.encode(recipes[0:-1])\n",
    "      input_embeddings = model.encode(ing_input)\n",
    "      for ings in input_embeddings:\n",
    "        recipe_embeddings2 = recipe_embeddings \n",
    "        for index,ings2 in enumerate(recipe_embeddings2):\n",
    "          if cosine_similarity(ings.reshape(1, -1),ings2.reshape(1, -1))[0][0] > 0.85:\n",
    "                match_count += 1\n",
    "                ings2 = 9859876310513751309753105673153165731653156315679367957960\n",
    "                break\n",
    "            \n",
    "      if match_count >= 0.99*(len(recipes)-1):\n",
    "        print(recipes[-1])\n",
    "        matching_recipes.append(recipes[-1])\n",
    "        test.append(recipes[-1])\n",
    "        hyplinks[get_title(recipes[-1])] = recipes[-1]\n",
    "    for items in matching_recipes:\n",
    "        tree2.insert('', tk.END, text=get_title(items))\n",
    "        add_img(get_image(items))\n",
    "    print(hyplinks)\n",
    "\n",
    "\n",
    "def add_ing(x):\n",
    "    if entry1.get().isspace() == False:\n",
    "        if not(entry1.get()) in ing_input:\n",
    "            test = []\n",
    "            ing_input.append(entry1.get())\n",
    "            print(ing_input)\n",
    "            tree.insert('', tk.END, values=(ing_input[-1],))\n",
    "            entry1.delete(0, 'end')     \n",
    "            \n",
    "def remove_item(event):\n",
    "    curItem = tree.focus()\n",
    "    x = tree.item(curItem,'values')\n",
    "    x = (str(x[0]))\n",
    "    ing_input.remove(x)\n",
    "    for index,selected_item in enumerate(tree.selection()):\n",
    "        tree.delete(selected_item)\n",
    "\n",
    "\n",
    "    \n",
    "ing_input = []\n",
    "win = tk.Tk()\n",
    "win.geometry('700x600')\n",
    "win.resizable(False, False)\n",
    "win.title('Recipe Finder')\n",
    "win.bind('<Return>', add_ing)\n",
    "win.configure(background='white')\n",
    "\n",
    "s = ttk.Style(win)\n",
    "win.tk.call(\"source\", \"sun-valley.tcl\")\n",
    "s.theme_use(\"sun-valley-light\")\n",
    "\n",
    "entry1 = ttk.Entry (win,width=40) \n",
    "entry1.pack()\n",
    "entry1.place(x=70,y=70)\n",
    "\n",
    "tree = ttk.Treeview(win, columns='Ingredients', show='headings')\n",
    "tree.heading('Ingredients', text='Ingredients', anchor=CENTER)\n",
    "tree.pack()\n",
    "tree.place(x=370,y=30)\n",
    "tree.bind('<<TreeviewSelect>>', remove_item)\n",
    "\n",
    "tree2 = ttk.Treeview(win)\n",
    "tree2.heading('#0', text='Recipes', anchor=CENTER)\n",
    "tree2.pack()\n",
    "tree2.place(x=70,y=190)\n",
    "tree2.bind('<<TreeviewSelect>>', open_recipe)\n",
    "\n",
    "button1 = ttk.Button(win,command=recipe_search,width=20,text='Search For Recipes')\n",
    "button1.pack()\n",
    "button1.place(x=70,y=120)\n",
    "\n",
    "exit_button = ttk.Button(win, text=\"Exit\", command=win.destroy)\n",
    "exit_button.pack(pady=20)\n",
    "exit_button.place(x=20,y=10)\n",
    "\n",
    "def add_img(link):\n",
    "    global img\n",
    "    global img_data\n",
    "    global response\n",
    "    img_url = link\n",
    "    response = requests.get(img_url)\n",
    "    img_data = response.content\n",
    "    img = Image.open(BytesIO(img_data))\n",
    "    img = img.resize((128,128))\n",
    "    img = ImageTk.PhotoImage(img)\n",
    "    tree2.insert('', tk.END, image=img)\n",
    "    "
   ]
  },
  {
   "cell_type": "code",
   "execution_count": 10,
   "metadata": {
    "scrolled": true
   },
   "outputs": [
    {
     "name": "stdout",
     "output_type": "stream",
     "text": [
      "['black pepper']\n",
      "['black pepper', 'salt']\n",
      "['black pepper', 'salt', 'unsalted butter']\n",
      "['black pepper', 'salt', 'unsalted butter', 'lemon']\n",
      "['black pepper', 'salt', 'unsalted butter', 'lemon', 'garlic']\n",
      "['black pepper', 'salt', 'unsalted butter', 'lemon', 'garlic', 'fresh spaghetti']\n",
      "['black pepper', 'salt', 'unsalted butter', 'lemon', 'garlic', 'fresh spaghetti', 'parmigiano reggiano cheese']\n",
      "https://www.seriouseats.com/pasta-al-limone\n",
      "{'Pasta al Limone Recipe': 'https://www.seriouseats.com/pasta-al-limone'}\n",
      "Pasta al Limone Recipe\n",
      "['black pepper', 'salt', 'unsalted butter', 'lemon', 'garlic', 'fresh spaghetti', 'parmigiano reggiano cheese', 'bacon']\n",
      "['black pepper', 'salt', 'unsalted butter', 'lemon', 'garlic', 'fresh spaghetti', 'parmigiano reggiano cheese', 'bacon', 'spring onions']\n",
      "['black pepper', 'salt', 'unsalted butter', 'lemon', 'garlic', 'fresh spaghetti', 'parmigiano reggiano cheese', 'bacon', 'spring onions', 'fennel']\n",
      "['black pepper', 'salt', 'unsalted butter', 'lemon', 'garlic', 'fresh spaghetti', 'parmigiano reggiano cheese', 'bacon', 'spring onions', 'fennel', 'water']\n",
      "['black pepper', 'salt', 'unsalted butter', 'lemon', 'garlic', 'fresh spaghetti', 'parmigiano reggiano cheese', 'bacon', 'spring onions', 'fennel', 'water', 'baking soda']\n",
      "['black pepper', 'salt', 'unsalted butter', 'lemon', 'garlic', 'fresh spaghetti', 'parmigiano reggiano cheese', 'bacon', 'spring onions', 'fennel', 'water', 'baking soda', 'pasta']\n",
      "['black pepper', 'salt', 'unsalted butter', 'lemon', 'garlic', 'fresh spaghetti', 'parmigiano reggiano cheese', 'bacon', 'spring onions', 'fennel', 'water', 'baking soda', 'pasta', ' parmigiano reggiano']\n",
      "Pasta al Limone Recipe\n",
      "['black pepper', 'salt', 'unsalted butter', 'lemon', 'garlic', 'fresh spaghetti', 'parmigiano reggiano cheese', 'bacon', 'spring onions', 'fennel', 'water', 'baking soda', 'pasta', ' parmigiano reggiano', 'gjjftyuftyfty']\n",
      "https://www.seriouseats.com/pasta-al-limone\n",
      "https://www.seriouseats.com/fettuccine-alfredo-sauce-italian-pasta-recipe\n",
      "{'Pasta al Limone Recipe': 'https://www.seriouseats.com/pasta-al-limone', 'Roman-Style Fettuccine With Alfredo Sauce Recipe': 'https://www.seriouseats.com/fettuccine-alfredo-sauce-italian-pasta-recipe'}\n",
      "Roman-Style Fettuccine With Alfredo Sauce Recipe\n"
     ]
    }
   ],
   "source": [
    "# https://stackoverflow.com/questions/16996432/how-do-i-bind-the-enter-key-to-a-function-in-tkinter/16996475\n",
    "# https://stackoverflow.com/questions/2260235/how-to-clear-the-entry-widget-after-a-button-is-pressed-in-tkinter    \n",
    "# https://stackoverflow.com/questions/31015774/removing-a-selection-from-a-listbox-as-well-as-remove-it-from-the-list-that-pro\n",
    "# https://www.pythontutorial.net/tkinter/tkinter-listbox/\n",
    "# https://www.reddit.com/r/Python/comments/lps11c/how_to_make_tkinter_look_modern_how_to_use_themes/\n",
    "# https://www.pythontutorial.net/tkinter/tkinter-treeview/\n",
    "# https://riptutorial.com/tkinter/example/31880/treeview--basic-example\n",
    "# https://stackoverflow.com/questions/49935927/tkinter-treeview-string-with-space-issue\n",
    "# https://www.kite.com/python/answers/how-to-convert-letters-to-numbers-in-python\n",
    "# https://stackoverflow.com/questions/34849035/how-to-get-the-value-of-a-selected-treeview-item"
   ]
  },
  {
   "cell_type": "code",
   "execution_count": null,
   "metadata": {},
   "outputs": [],
   "source": []
  }
 ],
 "metadata": {
  "accelerator": "GPU",
  "colab": {
   "collapsed_sections": [],
   "name": "recipe_scrape_app.ipynb",
   "provenance": []
  },
  "kernelspec": {
   "display_name": "Python 3",
   "language": "python",
   "name": "python3"
  },
  "language_info": {
   "codemirror_mode": {
    "name": "ipython",
    "version": 3
   },
   "file_extension": ".py",
   "mimetype": "text/x-python",
   "name": "python",
   "nbconvert_exporter": "python",
   "pygments_lexer": "ipython3",
   "version": "3.8.5"
  }
 },
 "nbformat": 4,
 "nbformat_minor": 4
}
