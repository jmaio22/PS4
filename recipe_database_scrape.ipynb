{
  "nbformat": 4,
  "nbformat_minor": 0,
  "metadata": {
    "colab": {
      "name": "recipe_database_scrape.ipynb",
      "provenance": [],
      "collapsed_sections": []
    },
    "kernelspec": {
      "display_name": "Python 3",
      "name": "python3"
    },
    "language_info": {
      "name": "python"
    },
    "accelerator": "GPU"
  },
  "cells": [
    {
      "cell_type": "code",
      "metadata": {
        "id": "h4RKqKN-2np6"
      },
      "source": [
        "import re\n",
        "import pandas as pd\n",
        "import requests\n",
        "import httplib2\n",
        "import csv\n",
        "import string\n",
        "from bs4 import BeautifulSoup\n",
        "from bs4 import SoupStrainer\n",
        "from bs4.element import Tag\n",
        "from collections import Counter"
      ],
      "execution_count": null,
      "outputs": []
    },
    {
      "cell_type": "code",
      "metadata": {
        "colab": {
          "base_uri": "https://localhost:8080/"
        },
        "id": "bq22740iXz_m",
        "outputId": "735da7f5-c375-4313-85c0-09c50055929f"
      },
      "source": [
        "#creating counter that scrapes all of the recipe links from the bbelow sections (which were themselves scraped)\n",
        "http = httplib2.Http()\n",
        "lsplit2 = []\n",
        "l = [\"https://www.seriouseats.com/burger-recipes-5117823\",\n",
        "'https://www.seriouseats.com/chili-recipes-5117821',\n",
        "\"https://www.seriouseats.com/comfort-food-recipes-5117822\",\n",
        "\"https://www.seriouseats.com/curry-recipes-5117819\",\n",
        "\"https://www.seriouseats.com/meatball-recipes-5117820\",\n",
        "\"https://www.seriouseats.com/noodle-main-recipes-5117818\",\n",
        "\"https://www.seriouseats.com/pasta-main-recipes-5117817\",\n",
        "\"https://www.seriouseats.com/braised-stewed-main-recipes-5117369\",\n",
        "\"https://www.seriouseats.com/pizza-recipes-5117816\",\n",
        "\"https://www.seriouseats.com/roast-recipes-5117815\",\n",
        "\"https://www.seriouseats.com/sandwich-recipes-5117813\",\n",
        "\"https://www.seriouseats.com/soup-recipes-5117814\",\n",
        "\"https://www.seriouseats.com/taco-recipes-5117812\",\n",
        "\"https://www.seriouseats.com/breakfast-sandwich-recipes-5117901\",\n",
        "\"https://www.seriouseats.com/crepes-recipes-5117903\",\n",
        "\"https://www.seriouseats.com/french-toast-recipes-5117898\",\n",
        "\"https://www.seriouseats.com/frittata-recipes-5117900\",\n",
        "\"https://www.seriouseats.com/granola-recipes-5117897\",\n",
        "\"https://www.seriouseats.com/grits-recipes-5117896\",\n",
        "\"https://www.seriouseats.com/hash-brown-recipes-5117893\",\n",
        "\"https://www.seriouseats.com/oatmeal-recipes-5117895\",\n",
        "\"https://www.seriouseats.com/pancake-recipes-5117892\",\n",
        "\"https://www.seriouseats.com/scone-recipes-5117889\",\n",
        "\"https://www.seriouseats.com/fall-breakfast-brunch-recipes-5117981\",\n",
        "\"https://www.seriouseats.com/spring-breakfast-brunch-recipes-5117954\",\n",
        "\"https://www.seriouseats.com/summer-breakfast-brunch-recipes-5117938\",\n",
        "\"https://www.seriouseats.com/winter-breakfast-brunch-recipes-5117914\",\n",
        "\"https://www.seriouseats.com/toast-recipes-5117890\",\n",
        "\"https://www.seriouseats.com/syrup-recipes-5117880\",\n",
        "\"https://www.seriouseats.com/smoothie-recipes-5117841\",\n",
        "\"https://www.seriouseats.com/egg-recipes-5117678\",\n",
        "\"https://www.seriouseats.com/quick-bread-recipes-5117390\",\n",
        "\"https://www.seriouseats.com/muffin-recipes-5117378\",\n",
        "\"https://www.seriouseats.com/pastry-recipes-5117377\",\n",
        "\"https://www.seriouseats.com/waffle-recipes-5117886\",\n",
        "\"https://www.seriouseats.com/quick-breakfast-recipes-5117891\"]\n",
        "\n",
        "\n",
        "for links in l:\n",
        "  content = requests.get(links).content\n",
        "  for link in BeautifulSoup(content, parse_only=SoupStrainer('a')):\n",
        "    if hasattr(link, \"href\"):\n",
        "      lsplit = (str(link['href'])).split('\\n')\n",
        "      for l in lsplit:\n",
        "        lsplit2.append(l)\n",
        "counts = Counter(lsplit2)\n",
        "type(counts)\n",
        "counts[0]"
      ],
      "execution_count": null,
      "outputs": [
        {
          "data": {
            "text/plain": [
              "0"
            ]
          },
          "execution_count": 2,
          "metadata": {},
          "output_type": "execute_result"
        }
      ]
    },
    {
      "cell_type": "code",
      "metadata": {
        "id": "RNOtmIHlBgMa"
      },
      "source": [
        "#write dictionary to links txt\n",
        "type(counts)\n",
        "with open(\"/content/links.txt\", 'w') as f:\n",
        "    for k,v in  counts.most_common():\n",
        "        f.write( \"{} {}\\n\".format(k,v) )"
      ],
      "execution_count": null,
      "outputs": []
    },
    {
      "cell_type": "code",
      "metadata": {
        "id": "Uf5gf1c-dudB"
      },
      "source": [
        "#scrape links for list to scrape reciipes\n",
        "content = requests.get('https://www.seriouseats.com/breakfast-brunch-recipes-5117905').content\n",
        "\n",
        "for link in BeautifulSoup(content, parse_only=SoupStrainer('a')):\n",
        "  if hasattr(link, \"href\"):\n",
        "    print(link['href'])"
      ],
      "execution_count": null,
      "outputs": []
    },
    {
      "cell_type": "code",
      "metadata": {
        "id": "jaYhmfBkEhwu"
      },
      "source": [
        "#getting recipe links from file\n",
        "splits = []\n",
        "splits2 = []\n",
        "with open(\"/content/links.txt\", 'r') as f:\n",
        "  for line in f:\n",
        "    splits = line.split(\" \")\n",
        "    splits2.append(str(splits[0]))\n",
        "splits2"
      ],
      "execution_count": null,
      "outputs": []
    },
    {
      "cell_type": "markdown",
      "metadata": {
        "id": "1QMbNM92e2X3"
      },
      "source": [
        "ingredient scrape"
      ]
    },
    {
      "cell_type": "code",
      "metadata": {
        "id": "P0WfgNE44ol0"
      },
      "source": [
        "#scrapes all the ingredients from every recipe into one doccument on one line\n",
        "test = ['https://www.seriouseats.com/date-tahini-cardamom-smoothie-recipe']\n",
        "\n",
        "for links in splits2:\n",
        "  page = requests.get(links)\n",
        "  soup = BeautifulSoup(page.content, \"html.parser\")\n",
        "  #results = soup.find(id=\"ingredient-list_1-0\")\n",
        "  results = (str(soup.find(id=\"ingredient-list_1-0\"))).split('\\n')\n",
        "  wea = []\n",
        "  for k in results:\n",
        "    if k[0] != \"<\":\n",
        "      wea.append(re.sub(\"[\\(\\<].*?[\\)\\>]\", \"\", k))\n",
        "  wea = ' '.join(wea)\n",
        "\n",
        "  with open(\"/content/food.txt\", \"a\") as food:\n",
        "    food.write(\" \")\n",
        "    food.write(wea)\n",
        "  food.close\n"
      ],
      "execution_count": null,
      "outputs": []
    },
    {
      "cell_type": "code",
      "metadata": {
        "id": "wM_1sojS6R5c"
      },
      "source": [
        "#creates the all words counter reading from the food doccument, seperating every word with a whitespace and removing punctuation\n",
        "with open(\"/content/food.txt\", \"r\") as food:\n",
        "  for line in food:\n",
        "    raw_words = line.split(\" \")\n",
        "    for index, word in enumerate(raw_words):\n",
        "      raw_words[index] = word.translate(str.maketrans('', '', \"!#$%&\\'()*+,./:;<=>?@[\\\\]^_`{|}~\"))\n",
        "      raw_words[index] = raw_words[index].translate(str.maketrans('', '', string.whitespace))\n",
        "      raw_words[index] = raw_words[index].lower()\n",
        "    all_words = Counter(raw_words)\n",
        "all_words"
      ],
      "execution_count": null,
      "outputs": []
    },
    {
      "cell_type": "code",
      "metadata": {
        "id": "coUalYbVO3aT"
      },
      "source": [
        "  #write the counter all words into a csv showing the frequency of every word in every list of ingredients for all recipes\n",
        "  with open('all_words.csv', encoding='utf-8-sig', mode='w') as fp:\n",
        "        fp.write('KMC,freq\\n')  \n",
        "        for tag, count in all_words.items():  \n",
        "            fp.write('{},{}\\n'.format(tag, count)) \n"
      ],
      "execution_count": null,
      "outputs": []
    },
    {
      "cell_type": "code",
      "metadata": {
        "colab": {
          "base_uri": "https://localhost:8080/",
          "height": 35
        },
        "id": "7lqMZDFnaQ9V",
        "outputId": "16936aaa-0988-4eb5-93dd-2bdee26bc35b"
      },
      "source": [
        "#scraping title of recipe\n",
        "#test = [\"https://www.seriouseats.com/vegan-crispy-potato-onion-mushroom-rosti-roesti-recipe\"]\n",
        "for links in recipe_input:\n",
        "  page = requests.get(links)\n",
        "  soup = BeautifulSoup(page.content, \"html.parser\")\n",
        "  results = (str(soup.find(id=\"heading_1-0\"))).split('\\n')\n",
        "title = re.sub(\"[\\(\\<].*?[\\)\\>]\", \"\", results[1])\n",
        "title\n"
      ],
      "execution_count": null,
      "outputs": [
        {
          "output_type": "execute_result",
          "data": {
            "application/vnd.google.colaboratory.intrinsic+json": {
              "type": "string"
            },
            "text/plain": [
              "'Crispy Potato, Onion, and Mushroom Rösti Recipe'"
            ]
          },
          "metadata": {},
          "execution_count": 9
        }
      ]
    },
    {
      "cell_type": "code",
      "metadata": {
        "colab": {
          "base_uri": "https://localhost:8080/",
          "height": 52
        },
        "id": "dGL5JNNDbxK4",
        "outputId": "2f0759c4-c277-41dd-af6e-4571330adf01"
      },
      "source": [
        "#scraping image of recipe\n",
        "#test = [\"https://www.seriouseats.com/croque-madame-recipe\"]\n",
        "for links in recipe_input:\n",
        "  page = requests.get(links)\n",
        "  soup = BeautifulSoup(page.content, \"html.parser\")\n",
        "  results = (str(soup.find(id=\"figure_2-0\"))).split('\\n')\n",
        "recipe_image = results[1].split('\"')\n",
        "for items in recipe_image:\n",
        "  if items[0:3] == \"htt\":\n",
        "    recipe_image = items\n",
        "    break\n",
        "recipe_image"
      ],
      "execution_count": null,
      "outputs": [
        {
          "output_type": "execute_result",
          "data": {
            "application/vnd.google.colaboratory.intrinsic+json": {
              "type": "string"
            },
            "text/plain": [
              "'https://www.seriouseats.com/thmb/OWMvDlrJ7EgZd6DzPoKgN9JEdyU=/960x0/filters:no_upscale():max_bytes(150000):strip_icc()/__opt__aboutcom__coeus__resources__content_migration__serious_eats__seriouseats.com__recipes__images__2016__03__20160317-croque-monsier-madam-vicky-wasik-10-b9bfab88f7bc499f9fefffb9814238b3.jpg'"
            ]
          },
          "metadata": {},
          "execution_count": 12
        }
      ]
    },
    {
      "cell_type": "markdown",
      "metadata": {
        "id": "rHSDVAy_H2Jj"
      },
      "source": [
        "."
      ]
    },
    {
      "cell_type": "markdown",
      "metadata": {
        "id": "CjQTBXthiGv4"
      },
      "source": [
        "edamam attempt"
      ]
    },
    {
      "cell_type": "code",
      "metadata": {
        "id": "R1g25vbaLQkb"
      },
      "source": [
        "#creating food2.txt, which is every single ingredient in all recipes to be used to filter nlp dataset\n",
        "for links in splits2:\n",
        "  wrote = 0\n",
        "  page = requests.get(links)\n",
        "  soup = BeautifulSoup(page.content, \"html.parser\")\n",
        "  results = (str(soup.find(id=\"ingredient-list_1-0\"))).split('\\n')\n",
        "  #print(results)\n",
        "  for k in results:\n",
        "    if k[0] != \"<\":\n",
        "      if k[0:5] != \"None\":\n",
        "        if k[0:3] != \"For\":\n",
        "          if k.isascii() == True:\n",
        "            with open(\"/content/food2.txt\", \"a\") as food2:\n",
        "              food2.write('\\n')\n",
        "              food2.write(re.sub(\"[\\(\\<].*?[\\)\\>]\", \"\", k))\n",
        "              food2.close\n",
        "              wrote = 1\n",
        "  if wrote == 1: \n",
        "    with open(\"/content/food2.txt\", \"a\") as food2:\n",
        "         food2.write('\\n')\n",
        "         food2.write(links)\n",
        "         #food2.write('999 eggs')\n",
        "         food2.write('\\n')\n",
        "         food2.close\n",
        "\n"
      ],
      "execution_count": null,
      "outputs": []
    },
    {
      "cell_type": "code",
      "metadata": {
        "id": "4YAMh7mjQM33"
      },
      "source": [
        "#writing food2 to csv because i forgot to do it when its creating\n",
        "df = pd.read_fwf(\"/content/food2.txt\")\n",
        "df.to_csv('/content/food2.csv', index=None)"
      ],
      "execution_count": null,
      "outputs": []
    },
    {
      "cell_type": "code",
      "metadata": {
        "id": "leYGh5vZ9xZ_"
      },
      "source": [
        "#gives me a list of ingredients from inputted csv\n",
        "df = pd.read_csv('/content/food2.csv',engine='python', sep=',',quotechar='\"', error_bad_lines=False)\n",
        "df = df[['food']]\n",
        "df['food'] = df['food'].str.lower()\n",
        "df['food'] = df['food'].str.replace('-',' ')\n",
        "df['food'] = df['food'].str.replace('[{}]'.format(string.punctuation), '')\n",
        "ttt = df['food'].values.tolist()\n",
        "ttt = set(ttt)\n",
        "ttt = list(ttt)\n",
        "ttt"
      ],
      "execution_count": null,
      "outputs": []
    },
    {
      "cell_type": "code",
      "metadata": {
        "id": "wl67plfw_o-p"
      },
      "source": [
        "#makes ingredients.txt csv from the counter above (note that above makes list not counter, change tt into a counter for this to work)\n",
        "with open(\"/content/ingredients.txt\", 'w') as f:\n",
        "    for k,v in  ttt.most_common():\n",
        "        f.write( \"{} {}\\n\".format(k,v) )"
      ],
      "execution_count": null,
      "outputs": []
    },
    {
      "cell_type": "code",
      "metadata": {
        "id": "G29qqQGNPGqk"
      },
      "source": [
        "######################USING SENTENCE TRANSFORMERS#############################\n",
        "!pip install -U sentence-transformers"
      ],
      "execution_count": null,
      "outputs": []
    },
    {
      "cell_type": "code",
      "metadata": {
        "id": "WC9zPMmBPIBn"
      },
      "source": [
        "from sentence_transformers import SentenceTransformer\n",
        "from sklearn.metrics.pairwise import cosine_similarity\n",
        "model = SentenceTransformer('sentence-transformers/paraphrase-xlm-r-multilingual-v1')"
      ],
      "execution_count": null,
      "outputs": []
    },
    {
      "cell_type": "code",
      "metadata": {
        "id": "pTZg2dM1xDkt"
      },
      "source": [
        "#gives me a list of recipes with ingredients from inputted csv\n",
        "df = pd.read_csv('/content/food3.csv',engine='python', sep=',',quotechar='\"', error_bad_lines=False)\n",
        "df = df[['food']]\n",
        "df['food'] = df['food'].str.lower()\n",
        "igens = df['food'].values.tolist()\n",
        "igens\n"
      ],
      "execution_count": null,
      "outputs": []
    },
    {
      "cell_type": "code",
      "metadata": {
        "id": "fT3IhpgQNKJW"
      },
      "source": [
        "#write igens to txt file to streamline steps\n",
        "with open('igens.txt', 'w') as f:\n",
        "    for item in igens:\n",
        "        #f.write('\"')\n",
        "        f.write(item)\n",
        "        #f.write('\"')\n",
        "        #f.write(\"\\n\")\n",
        "        #f.write(',')"
      ],
      "execution_count": null,
      "outputs": []
    },
    {
      "cell_type": "code",
      "metadata": {
        "id": "ES_N4P5v7Ije"
      },
      "source": [
        "with open('igens.txt', 'r') as f:  \n",
        "    igens = []\n",
        "    for item in f:\n",
        "      igens.append(item)\n",
        "igens"
      ],
      "execution_count": null,
      "outputs": []
    },
    {
      "cell_type": "code",
      "metadata": {
        "id": "zE_aQiGtOg2a"
      },
      "source": [
        ""
      ],
      "execution_count": null,
      "outputs": []
    },
    {
      "cell_type": "code",
      "metadata": {
        "id": "-HwkRd1S2p7H"
      },
      "source": [
        "#create sublist of each recipe in a single list\n",
        "indices = []\n",
        "for i, elem in enumerate(igens):\n",
        "    if 'https:' in elem:\n",
        "        indices.append(i)"
      ],
      "execution_count": null,
      "outputs": []
    },
    {
      "cell_type": "code",
      "metadata": {
        "id": "m_tRiT5q5MiQ"
      },
      "source": [
        "#getting indexes of each link to delimit the data\n",
        "x = -1\n",
        "x1 = 0\n",
        "recipedata = []\n",
        "for items in indices:\n",
        "  recipedata.append(list(igens[x+1:items+1]))\n",
        "  x = items"
      ],
      "execution_count": null,
      "outputs": []
    },
    {
      "cell_type": "code",
      "metadata": {
        "colab": {
          "base_uri": "https://localhost:8080/"
        },
        "id": "Ej-JaTQ1UKD-",
        "outputId": "81e6703c-947c-45d0-b419-80910359a22d"
      },
      "source": [
        "len(recipedata)"
      ],
      "execution_count": null,
      "outputs": [
        {
          "output_type": "execute_result",
          "data": {
            "text/plain": [
              "792"
            ]
          },
          "metadata": {},
          "execution_count": 26
        }
      ]
    },
    {
      "cell_type": "code",
      "metadata": {
        "id": "DLI8GjB48CrF",
        "colab": {
          "base_uri": "https://localhost:8080/"
        },
        "outputId": "4d8f56b4-a00b-4ae5-c7ab-3d7419b0beb8"
      },
      "source": [
        "  recipedata[762]"
      ],
      "execution_count": null,
      "outputs": [
        {
          "output_type": "execute_result",
          "data": {
            "text/plain": [
              "['all-purpose flour',\n",
              " 'puff pastry',\n",
              " 'cream cheese',\n",
              " 'raisins',\n",
              " 'cinnamon',\n",
              " 'sugar',\n",
              " 'https://www.seriouseats.com/cinnamon-raisin-puff-pastry-waffle-recipe']"
            ]
          },
          "metadata": {},
          "execution_count": 27
        }
      ]
    },
    {
      "cell_type": "code",
      "metadata": {
        "colab": {
          "base_uri": "https://localhost:8080/",
          "height": 232
        },
        "id": "1TsInXHD9JBE",
        "outputId": "b3887adb-5dce-447d-8c6f-889cf8223e11"
      },
      "source": [
        "matching_recipes = []\n",
        "ewe = 0\n",
        "for recipes in recipedata:\n",
        "  ewe = ewe + 1\n",
        "  print(ewe)\n",
        "  match_count = 0\n",
        "  ing_input = [\"burger buns\", \"salt\", \"ground beef\",\"vegetable oil\",\"beef chuck\", \"cheese\",\"sugar\",\"raisins\",\"cinnamon\",\"cream cheese\",\"all-purpose flour\",\"puff pastry\",\"lemon\",\"carrot\",\"onion\",\"beef stock\",\"gruyere\"]\n",
        "  recipe_embeddings = model.encode(recipes[0:-1])\n",
        "  input_embeddings = model.encode(ing_input)\n",
        "  for ings in input_embeddings:\n",
        "    for ings2 in recipe_embeddings:      \n",
        "      if cosine_similarity(ings.reshape(1, -1),ings2.reshape(1, -1))[0][0] > 0.8:\n",
        "        match_count += 0.8\n",
        "        #print('1')\n",
        "  if match_count >= 0.79*(len(recipes)-1):\n",
        "    matching_recipes.append(recipes[-1])\n",
        "    print(\"matching!!\")\n",
        "    print(match_count)\n",
        "\n"
      ],
      "execution_count": null,
      "outputs": [
        {
          "output_type": "error",
          "ename": "NameError",
          "evalue": "ignored",
          "traceback": [
            "\u001b[0;31m---------------------------------------------------------------------------\u001b[0m",
            "\u001b[0;31mNameError\u001b[0m                                 Traceback (most recent call last)",
            "\u001b[0;32m<ipython-input-13-25ed0d4d18f8>\u001b[0m in \u001b[0;36m<module>\u001b[0;34m()\u001b[0m\n\u001b[1;32m      1\u001b[0m \u001b[0mmatching_recipes\u001b[0m \u001b[0;34m=\u001b[0m \u001b[0;34m[\u001b[0m\u001b[0;34m]\u001b[0m\u001b[0;34m\u001b[0m\u001b[0;34m\u001b[0m\u001b[0m\n\u001b[1;32m      2\u001b[0m \u001b[0mewe\u001b[0m \u001b[0;34m=\u001b[0m \u001b[0;36m0\u001b[0m\u001b[0;34m\u001b[0m\u001b[0;34m\u001b[0m\u001b[0m\n\u001b[0;32m----> 3\u001b[0;31m \u001b[0;32mfor\u001b[0m \u001b[0mrecipes\u001b[0m \u001b[0;32min\u001b[0m \u001b[0mrecipedata\u001b[0m\u001b[0;34m:\u001b[0m\u001b[0;34m\u001b[0m\u001b[0;34m\u001b[0m\u001b[0m\n\u001b[0m\u001b[1;32m      4\u001b[0m   \u001b[0mewe\u001b[0m \u001b[0;34m=\u001b[0m \u001b[0mewe\u001b[0m \u001b[0;34m+\u001b[0m \u001b[0;36m1\u001b[0m\u001b[0;34m\u001b[0m\u001b[0;34m\u001b[0m\u001b[0m\n\u001b[1;32m      5\u001b[0m   \u001b[0mprint\u001b[0m\u001b[0;34m(\u001b[0m\u001b[0mewe\u001b[0m\u001b[0;34m)\u001b[0m\u001b[0;34m\u001b[0m\u001b[0;34m\u001b[0m\u001b[0m\n",
            "\u001b[0;31mNameError\u001b[0m: name 'recipedata' is not defined"
          ]
        }
      ]
    },
    {
      "cell_type": "code",
      "metadata": {
        "colab": {
          "base_uri": "https://localhost:8080/"
        },
        "id": "Q10pjG62CwOs",
        "outputId": "a2bba98a-fab9-4b8a-fdeb-09a9f6a66c02"
      },
      "source": [
        "matching_recipes"
      ],
      "execution_count": null,
      "outputs": [
        {
          "output_type": "execute_result",
          "data": {
            "text/plain": [
              "['https://www.seriouseats.com/sous-vide-burgers-recipe',\n",
              " 'https://www.seriouseats.com/thick-and-juicy-burgers-recipe',\n",
              " 'https://www.seriouseats.com/crispy-all-cheese-taco-shells-recipe',\n",
              " 'https://www.seriouseats.com/cinnamon-raisin-puff-pastry-waffle-recipe']"
            ]
          },
          "metadata": {},
          "execution_count": 29
        }
      ]
    },
    {
      "cell_type": "code",
      "metadata": {
        "id": "4car_F6KCr6Y"
      },
      "source": [
        "  #testing on single set recipe\n",
        "  foobar = recipedata[762]\n",
        "  match_count = 0\n",
        "  matching_recipes = []\n",
        "  ing_input = [\"burger buns\", \"salt\", \"ground beef\",\"vegetable oil\",\"beef chuck\", \"cheese\",\"sugar\",\"raisins\",\"cinnamon\",\"cream cheese\",\"all-purpose flour\",\"puff pastry\"]\n",
        "  recipe_embeddings = model.encode(foobar[0:-1])\n",
        "  input_embeddings = model.encode(ing_input)\n",
        "  for ings in input_embeddings:\n",
        "    for ings2 in recipe_embeddings:      \n",
        "      if cosine_similarity(ings.reshape(1, -1),ings2.reshape(1, -1))[0][0] > 0.8:\n",
        "        match_count += 0.8\n",
        "        print('1')\n",
        "        print(match_count)\n",
        "  if match_count >= 0.79*(len(foobar)-1):\n",
        "    print(\"matching!!\")\n",
        "    print(match_count)\n"
      ],
      "execution_count": null,
      "outputs": []
    },
    {
      "cell_type": "code",
      "metadata": {
        "colab": {
          "base_uri": "https://localhost:8080/"
        },
        "id": "S9sGlwlOYyWR",
        "outputId": "6b347a88-b481-4f37-de3a-5a9c80345253"
      },
      "source": [
        "(len(foobar) - 1)"
      ],
      "execution_count": null,
      "outputs": [
        {
          "output_type": "execute_result",
          "data": {
            "text/plain": [
              "6"
            ]
          },
          "metadata": {},
          "execution_count": 47
        }
      ]
    },
    {
      "cell_type": "markdown",
      "metadata": {
        "id": "jlGYVAYqebHu"
      },
      "source": [
        "\n",
        "   \n",
        "     ."
      ]
    },
    {
      "cell_type": "markdown",
      "metadata": {
        "id": "24zqMlMjymRC"
      },
      "source": [
        "pandas data prep for nlp"
      ]
    },
    {
      "cell_type": "code",
      "metadata": {
        "id": "aEEJIMycypO7"
      },
      "source": [
        "df = pd.read_csv('/content/food.csv',engine='python', sep=',',quotechar='\"', error_bad_lines=False)\n",
        "df = df[['data_type','description']]\n",
        "df['description'] = df['description'].str.lower()\n",
        "df['description'] = df['description'].str.replace('[{}]'.format(string.punctuation), '')\n",
        "df = df[df.data_type != 'experimental_food']\n",
        "df.head"
      ],
      "execution_count": null,
      "outputs": []
    },
    {
      "cell_type": "markdown",
      "metadata": {
        "id": "_GWTf6aSYVPJ"
      },
      "source": [
        "giving up on training nlp model because too much effort to create and label dataset"
      ]
    },
    {
      "cell_type": "markdown",
      "metadata": {
        "id": "pa66MPL4Yfln"
      },
      "source": [
        "found pre trained library using nlp parsing"
      ]
    },
    {
      "cell_type": "code",
      "metadata": {
        "colab": {
          "base_uri": "https://localhost:8080/"
        },
        "id": "PpAWktxlXVxB",
        "outputId": "337b12ca-8bd1-48a0-f228-4024c4d6779f"
      },
      "source": [
        "!pip install zestful-parse-ingredient==0.0.5\n"
      ],
      "execution_count": null,
      "outputs": [
        {
          "name": "stdout",
          "output_type": "stream",
          "text": [
            "Collecting zestful-parse-ingredient==0.0.5\n",
            "  Downloading zestful_parse_ingredient-0.0.5-py3-none-any.whl (6.4 kB)\n",
            "Installing collected packages: zestful-parse-ingredient\n",
            "Successfully installed zestful-parse-ingredient-0.0.5\n"
          ]
        }
      ]
    },
    {
      "cell_type": "code",
      "metadata": {
        "id": "QV61XEbHXgqV"
      },
      "source": [
        "import json\n",
        "import parse_ingredient\n",
        "ingredient = parse_ingredient.parse(\"gello\")\n",
        "x = (json.dumps(ingredient.as_dict())).split(' ')"
      ],
      "execution_count": null,
      "outputs": []
    },
    {
      "cell_type": "code",
      "metadata": {
        "colab": {
          "base_uri": "https://localhost:8080/",
          "height": 35
        },
        "id": "EtdxKU7nCcY8",
        "outputId": "dc000fc4-240e-41df-f55c-25551d5a9bf7"
      },
      "source": [
        "a = x.index('\"product\":')\n",
        "x[a+1].translate(str.maketrans('', '', \"!#$%&\\\"'()*+,./:;<=>?@[\\\\]^_`{|}~\"))"
      ],
      "execution_count": null,
      "outputs": [
        {
          "data": {
            "application/vnd.google.colaboratory.intrinsic+json": {
              "type": "string"
            },
            "text/plain": [
              "'parsley'"
            ]
          },
          "execution_count": 16,
          "metadata": {},
          "output_type": "execute_result"
        }
      ]
    },
    {
      "cell_type": "code",
      "metadata": {
        "id": "y0WMDh3uwsq6"
      },
      "source": [
        ""
      ],
      "execution_count": null,
      "outputs": []
    }
  ]
}